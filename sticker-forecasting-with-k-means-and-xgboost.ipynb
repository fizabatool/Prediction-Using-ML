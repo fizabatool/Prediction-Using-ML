{
 "cells": [
  {
   "cell_type": "code",
   "execution_count": 1,
   "id": "4d837c7a",
   "metadata": {
    "_cell_guid": "b1076dfc-b9ad-4769-8c92-a6c4dae69d19",
    "_uuid": "8f2839f25d086af736a60e9eeb907d3b93b6e0e5",
    "execution": {
     "iopub.execute_input": "2025-01-29T04:19:10.145477Z",
     "iopub.status.busy": "2025-01-29T04:19:10.145198Z",
     "iopub.status.idle": "2025-01-29T04:19:12.071483Z",
     "shell.execute_reply": "2025-01-29T04:19:12.070708Z"
    },
    "papermill": {
     "duration": 1.931815,
     "end_time": "2025-01-29T04:19:12.072900",
     "exception": false,
     "start_time": "2025-01-29T04:19:10.141085",
     "status": "completed"
    },
    "tags": []
   },
   "outputs": [],
   "source": [
    "import pandas as pd\n",
    "import numpy as np\n",
    "from sklearn.preprocessing import LabelEncoder\n",
    "\n",
    "\n",
    "train = pd.read_csv(\"/kaggle/input/playground-series-s5e1/train.csv\")  \n",
    "test = pd.read_csv(\"/kaggle/input/playground-series-s5e1/test.csv\") "
   ]
  },
  {
   "cell_type": "code",
   "execution_count": 2,
   "id": "12ec15a5",
   "metadata": {
    "execution": {
     "iopub.execute_input": "2025-01-29T04:19:12.078876Z",
     "iopub.status.busy": "2025-01-29T04:19:12.078675Z",
     "iopub.status.idle": "2025-01-29T04:19:12.112464Z",
     "shell.execute_reply": "2025-01-29T04:19:12.111693Z"
    },
    "papermill": {
     "duration": 0.037872,
     "end_time": "2025-01-29T04:19:12.113663",
     "exception": false,
     "start_time": "2025-01-29T04:19:12.075791",
     "status": "completed"
    },
    "tags": []
   },
   "outputs": [
    {
     "data": {
      "text/html": [
       "<div>\n",
       "<style scoped>\n",
       "    .dataframe tbody tr th:only-of-type {\n",
       "        vertical-align: middle;\n",
       "    }\n",
       "\n",
       "    .dataframe tbody tr th {\n",
       "        vertical-align: top;\n",
       "    }\n",
       "\n",
       "    .dataframe thead th {\n",
       "        text-align: right;\n",
       "    }\n",
       "</style>\n",
       "<table border=\"1\" class=\"dataframe\">\n",
       "  <thead>\n",
       "    <tr style=\"text-align: right;\">\n",
       "      <th></th>\n",
       "      <th>id</th>\n",
       "      <th>num_sold</th>\n",
       "    </tr>\n",
       "  </thead>\n",
       "  <tbody>\n",
       "    <tr>\n",
       "      <th>count</th>\n",
       "      <td>230130.000000</td>\n",
       "      <td>221259.000000</td>\n",
       "    </tr>\n",
       "    <tr>\n",
       "      <th>mean</th>\n",
       "      <td>115064.500000</td>\n",
       "      <td>752.527382</td>\n",
       "    </tr>\n",
       "    <tr>\n",
       "      <th>std</th>\n",
       "      <td>66432.953062</td>\n",
       "      <td>690.165445</td>\n",
       "    </tr>\n",
       "    <tr>\n",
       "      <th>min</th>\n",
       "      <td>0.000000</td>\n",
       "      <td>5.000000</td>\n",
       "    </tr>\n",
       "    <tr>\n",
       "      <th>25%</th>\n",
       "      <td>57532.250000</td>\n",
       "      <td>219.000000</td>\n",
       "    </tr>\n",
       "    <tr>\n",
       "      <th>50%</th>\n",
       "      <td>115064.500000</td>\n",
       "      <td>605.000000</td>\n",
       "    </tr>\n",
       "    <tr>\n",
       "      <th>75%</th>\n",
       "      <td>172596.750000</td>\n",
       "      <td>1114.000000</td>\n",
       "    </tr>\n",
       "    <tr>\n",
       "      <th>max</th>\n",
       "      <td>230129.000000</td>\n",
       "      <td>5939.000000</td>\n",
       "    </tr>\n",
       "  </tbody>\n",
       "</table>\n",
       "</div>"
      ],
      "text/plain": [
       "                  id       num_sold\n",
       "count  230130.000000  221259.000000\n",
       "mean   115064.500000     752.527382\n",
       "std     66432.953062     690.165445\n",
       "min         0.000000       5.000000\n",
       "25%     57532.250000     219.000000\n",
       "50%    115064.500000     605.000000\n",
       "75%    172596.750000    1114.000000\n",
       "max    230129.000000    5939.000000"
      ]
     },
     "execution_count": 2,
     "metadata": {},
     "output_type": "execute_result"
    }
   ],
   "source": [
    "train.describe()"
   ]
  },
  {
   "cell_type": "code",
   "execution_count": 3,
   "id": "f393f09e",
   "metadata": {
    "execution": {
     "iopub.execute_input": "2025-01-29T04:19:12.120120Z",
     "iopub.status.busy": "2025-01-29T04:19:12.119897Z",
     "iopub.status.idle": "2025-01-29T04:19:12.168212Z",
     "shell.execute_reply": "2025-01-29T04:19:12.167527Z"
    },
    "papermill": {
     "duration": 0.052861,
     "end_time": "2025-01-29T04:19:12.169578",
     "exception": false,
     "start_time": "2025-01-29T04:19:12.116717",
     "status": "completed"
    },
    "tags": []
   },
   "outputs": [],
   "source": [
    "train =train.dropna()"
   ]
  },
  {
   "cell_type": "code",
   "execution_count": 4,
   "id": "1e82d311",
   "metadata": {
    "execution": {
     "iopub.execute_input": "2025-01-29T04:19:12.175569Z",
     "iopub.status.busy": "2025-01-29T04:19:12.175348Z",
     "iopub.status.idle": "2025-01-29T04:19:12.223182Z",
     "shell.execute_reply": "2025-01-29T04:19:12.222173Z"
    },
    "papermill": {
     "duration": 0.052036,
     "end_time": "2025-01-29T04:19:12.224464",
     "exception": false,
     "start_time": "2025-01-29T04:19:12.172428",
     "status": "completed"
    },
    "tags": []
   },
   "outputs": [
    {
     "name": "stdout",
     "output_type": "stream",
     "text": [
      "Column 'id' has 221259 unique values.\n",
      "Column 'date' has 2557 unique values.\n",
      "Column 'country' has 6 unique values.\n",
      "Column 'store' has 3 unique values.\n",
      "Column 'product' has 5 unique values.\n",
      "Column 'num_sold' has 4037 unique values.\n"
     ]
    }
   ],
   "source": [
    "\n",
    "# Iterate through each column and print the number of unique values\n",
    "for col in train.columns:\n",
    "    print(f\"Column '{col}' has {train[col].nunique()} unique values.\")"
   ]
  },
  {
   "cell_type": "code",
   "execution_count": 5,
   "id": "48ad73c9",
   "metadata": {
    "execution": {
     "iopub.execute_input": "2025-01-29T04:19:12.230762Z",
     "iopub.status.busy": "2025-01-29T04:19:12.230522Z",
     "iopub.status.idle": "2025-01-29T04:19:12.774286Z",
     "shell.execute_reply": "2025-01-29T04:19:12.773609Z"
    },
    "papermill": {
     "duration": 0.548205,
     "end_time": "2025-01-29T04:19:12.775645",
     "exception": false,
     "start_time": "2025-01-29T04:19:12.227440",
     "status": "completed"
    },
    "tags": []
   },
   "outputs": [
    {
     "data": {
      "text/plain": [
       "(array([71531.,     0.,     0.,     0.,     0., 74044.,     0.,     0.,\n",
       "            0., 75684.]),\n",
       " array([0. , 0.2, 0.4, 0.6, 0.8, 1. , 1.2, 1.4, 1.6, 1.8, 2. ]),\n",
       " <BarContainer object of 10 artists>)"
      ]
     },
     "execution_count": 5,
     "metadata": {},
     "output_type": "execute_result"
    },
    {
     "data": {
      "image/png": "[encoded data removed]",
      "text/plain": [
       "<Figure size 640x480 with 1 Axes>"
      ]
     },
     "metadata": {},
     "output_type": "display_data"
    }
   ],
   "source": [
    "import matplotlib.pyplot as plt\n",
    "import seaborn as sns\n",
    "\n",
    "plt.hist(train[\"store\"])"
   ]
  },
  {
   "cell_type": "code",
   "execution_count": 6,
   "id": "b1929137",
   "metadata": {
    "execution": {
     "iopub.execute_input": "2025-01-29T04:19:12.783297Z",
     "iopub.status.busy": "2025-01-29T04:19:12.782935Z",
     "iopub.status.idle": "2025-01-29T04:19:12.930891Z",
     "shell.execute_reply": "2025-01-29T04:19:12.930126Z"
    },
    "papermill": {
     "duration": 0.152723,
     "end_time": "2025-01-29T04:19:12.931972",
     "exception": false,
     "start_time": "2025-01-29T04:19:12.779249",
     "status": "completed"
    },
    "tags": []
   },
   "outputs": [
    {
     "data": {
      "text/plain": [
       "(array([46026.,     0., 46026.,     0.,     0., 45962.,     0., 46025.,\n",
       "            0., 37220.]),\n",
       " array([0. , 0.4, 0.8, 1.2, 1.6, 2. , 2.4, 2.8, 3.2, 3.6, 4. ]),\n",
       " <BarContainer object of 10 artists>)"
      ]
     },
     "execution_count": 6,
     "metadata": {},
     "output_type": "execute_result"
    },
    {
     "data": {
      "image/png": "[encoded data removed]",
      "text/plain": [
       "<Figure size 640x480 with 1 Axes>"
      ]
     },
     "metadata": {},
     "output_type": "display_data"
    }
   ],
   "source": [
    "plt.hist(train[\"product\"])"
   ]
  },
  {
   "cell_type": "code",
   "execution_count": 7,
   "id": "a8f7613c",
   "metadata": {
    "execution": {
     "iopub.execute_input": "2025-01-29T04:19:12.939955Z",
     "iopub.status.busy": "2025-01-29T04:19:12.939692Z",
     "iopub.status.idle": "2025-01-29T04:19:13.807465Z",
     "shell.execute_reply": "2025-01-29T04:19:13.806549Z"
    },
    "papermill": {
     "duration": 0.873186,
     "end_time": "2025-01-29T04:19:13.808755",
     "exception": false,
     "start_time": "2025-01-29T04:19:12.935569",
     "status": "completed"
    },
    "tags": []
   },
   "outputs": [
    {
     "name": "stderr",
     "output_type": "stream",
     "text": [
      "/usr/local/lib/python3.10/dist-packages/seaborn/_oldcore.py:1119: FutureWarning: use_inf_as_na option is deprecated and will be removed in a future version. Convert inf values to NaN before operating instead.\n",
      "  with pd.option_context('mode.use_inf_as_na', True):\n",
      "/usr/local/lib/python3.10/dist-packages/seaborn/_oldcore.py:1119: FutureWarning: use_inf_as_na option is deprecated and will be removed in a future version. Convert inf values to NaN before operating instead.\n",
      "  with pd.option_context('mode.use_inf_as_na', True):\n",
      "/usr/local/lib/python3.10/dist-packages/seaborn/_oldcore.py:1119: FutureWarning: use_inf_as_na option is deprecated and will be removed in a future version. Convert inf values to NaN before operating instead.\n",
      "  with pd.option_context('mode.use_inf_as_na', True):\n",
      "/usr/local/lib/python3.10/dist-packages/seaborn/_oldcore.py:1119: FutureWarning: use_inf_as_na option is deprecated and will be removed in a future version. Convert inf values to NaN before operating instead.\n",
      "  with pd.option_context('mode.use_inf_as_na', True):\n",
      "/usr/local/lib/python3.10/dist-packages/seaborn/_oldcore.py:1119: FutureWarning: use_inf_as_na option is deprecated and will be removed in a future version. Convert inf values to NaN before operating instead.\n",
      "  with pd.option_context('mode.use_inf_as_na', True):\n"
     ]
    },
    {
     "data": {
      "image/png": "[encoded data removed]",
      "text/plain": [
       "<Figure size 640x480 with 1 Axes>"
      ]
     },
     "metadata": {},
     "output_type": "display_data"
    }
   ],
   "source": [
    "for i in train['product'].unique():\n",
    "    sns.histplot(data=train[train['product'] == i], x='num_sold')"
   ]
  },
  {
   "cell_type": "code",
   "execution_count": 8,
   "id": "425d235b",
   "metadata": {
    "execution": {
     "iopub.execute_input": "2025-01-29T04:19:13.817415Z",
     "iopub.status.busy": "2025-01-29T04:19:13.817118Z",
     "iopub.status.idle": "2025-01-29T04:19:13.976837Z",
     "shell.execute_reply": "2025-01-29T04:19:13.975809Z"
    },
    "papermill": {
     "duration": 0.165587,
     "end_time": "2025-01-29T04:19:13.978390",
     "exception": false,
     "start_time": "2025-01-29T04:19:13.812803",
     "status": "completed"
    },
    "tags": []
   },
   "outputs": [],
   "source": [
    "from sklearn.preprocessing import LabelEncoder\n",
    "\n",
    "for col in train.select_dtypes(include=['object']).columns:\n",
    "    le = LabelEncoder()\n",
    "    train[col] = le.fit_transform(train[col])\n",
    "\n",
    "for col in test.select_dtypes(include=['object']).columns:\n",
    "    le = LabelEncoder()\n",
    "    test[col] = le.fit_transform(test[col])\n"
   ]
  },
  {
   "cell_type": "code",
   "execution_count": 9,
   "id": "b818ef66",
   "metadata": {
    "execution": {
     "iopub.execute_input": "2025-01-29T04:19:13.988275Z",
     "iopub.status.busy": "2025-01-29T04:19:13.987983Z",
     "iopub.status.idle": "2025-01-29T04:19:14.027778Z",
     "shell.execute_reply": "2025-01-29T04:19:14.027018Z"
    },
    "papermill": {
     "duration": 0.04627,
     "end_time": "2025-01-29T04:19:14.029161",
     "exception": false,
     "start_time": "2025-01-29T04:19:13.982891",
     "status": "completed"
    },
    "tags": []
   },
   "outputs": [],
   "source": [
    "# Extract date features \n",
    "\n",
    "df = train\n",
    "df['date'] = pd.to_datetime(df['date'])\n",
    "\n",
    "\n",
    "df['year'] = df['date'].dt.year\n",
    "df['month'] = df['date'].dt.month\n",
    "df['day_of_week'] = df['date'].dt.dayofweek  # Monday=0, Sunday=6\n",
    "df['day_of_year'] = df['date'].dt.dayofyear  # Helps capture annual seasonality\n",
    "df['week_of_year'] = df['date'].dt.isocalendar().week\n",
    "df['days_since_start'] = (df['date'] - df['date'].min()).dt.days"
   ]
  },
  {
   "cell_type": "code",
   "execution_count": 10,
   "id": "41acc5ef",
   "metadata": {
    "execution": {
     "iopub.execute_input": "2025-01-29T04:19:14.037820Z",
     "iopub.status.busy": "2025-01-29T04:19:14.037618Z",
     "iopub.status.idle": "2025-01-29T04:19:14.059417Z",
     "shell.execute_reply": "2025-01-29T04:19:14.058424Z"
    },
    "papermill": {
     "duration": 0.027522,
     "end_time": "2025-01-29T04:19:14.060862",
     "exception": false,
     "start_time": "2025-01-29T04:19:14.033340",
     "status": "completed"
    },
    "tags": []
   },
   "outputs": [
    {
     "name": "stdout",
     "output_type": "stream",
     "text": [
      "Outliers: 66        3369.0\n",
      "67        3195.0\n",
      "71        3940.0\n",
      "72        3430.0\n",
      "156       3545.0\n",
      "           ...  \n",
      "230066    2481.0\n",
      "230106    2767.0\n",
      "230111    3459.0\n",
      "230112    2735.0\n",
      "230126    2907.0\n",
      "Name: num_sold, Length: 6630, dtype: float64\n"
     ]
    }
   ],
   "source": [
    "# check for any outliers in num_sold & eliminate them by taking log\n",
    "\n",
    "#cCalculate Q1 (25th percentile), Q3 (75th percentile), and IQR\n",
    "Q1 = np.percentile(train['num_sold'], 25)\n",
    "Q3 = np.percentile(train['num_sold'], 75)\n",
    "IQR = Q3 - Q1\n",
    "\n",
    "# Define bounds for outliers\n",
    "lower_bound = Q1 - 1.5 * IQR\n",
    "upper_bound = Q3 + 1.5 * IQR\n",
    "\n",
    "# Identify outliers\n",
    "outliers = train['num_sold'][(train['num_sold'] < lower_bound) | (train['num_sold'] > upper_bound)]\n",
    "\n",
    "print(f\"Outliers: {outliers}\")\n",
    "outliers_sum = np.sum(outliers)\n",
    "\n",
    "df['num_sold_log'] = np.log1p(df['num_sold'])  # Log transformation"
   ]
  },
  {
   "cell_type": "code",
   "execution_count": 11,
   "id": "f9694a60",
   "metadata": {
    "execution": {
     "iopub.execute_input": "2025-01-29T04:19:14.070877Z",
     "iopub.status.busy": "2025-01-29T04:19:14.070679Z",
     "iopub.status.idle": "2025-01-29T04:19:15.286483Z",
     "shell.execute_reply": "2025-01-29T04:19:15.285502Z"
    },
    "papermill": {
     "duration": 1.222252,
     "end_time": "2025-01-29T04:19:15.287764",
     "exception": false,
     "start_time": "2025-01-29T04:19:14.065512",
     "status": "completed"
    },
    "tags": []
   },
   "outputs": [
    {
     "name": "stderr",
     "output_type": "stream",
     "text": [
      "/usr/local/lib/python3.10/dist-packages/sklearn/cluster/_kmeans.py:870: FutureWarning: The default value of `n_init` will change from 10 to 'auto' in 1.4. Set the value of `n_init` explicitly to suppress the warning\n",
      "  warnings.warn(\n"
     ]
    },
    {
     "name": "stdout",
     "output_type": "stream",
     "text": [
      "   num_sold  cluster\n",
      "1     973.0        6\n",
      "2     906.0        1\n",
      "3     423.0        1\n",
      "4     491.0        1\n",
      "5     300.0        6\n"
     ]
    }
   ],
   "source": [
    "# Using K-means for searching any patters or clusters for independent features\n",
    "\n",
    "from sklearn.cluster import KMeans\n",
    "\n",
    "# Select features for clustering\n",
    "features_for_clustering = df[[ 'days_since_start', 'month', 'day_of_week', \n",
    "                              'country', 'store', 'product']]\n",
    "\n",
    "kmeans = KMeans(random_state=42)\n",
    "df['cluster'] = kmeans.fit_predict(features_for_clustering)\n",
    "\n",
    "print(df[['num_sold', 'cluster']].head())"
   ]
  },
  {
   "cell_type": "code",
   "execution_count": 12,
   "id": "2093bd33",
   "metadata": {
    "execution": {
     "iopub.execute_input": "2025-01-29T04:19:15.296686Z",
     "iopub.status.busy": "2025-01-29T04:19:15.296449Z",
     "iopub.status.idle": "2025-01-29T04:19:15.973668Z",
     "shell.execute_reply": "2025-01-29T04:19:15.972893Z"
    },
    "papermill": {
     "duration": 0.682841,
     "end_time": "2025-01-29T04:19:15.974739",
     "exception": false,
     "start_time": "2025-01-29T04:19:15.291898",
     "status": "completed"
    },
    "tags": []
   },
   "outputs": [
    {
     "data": {
      "text/plain": [
       "0.16358073386136823"
      ]
     },
     "execution_count": 12,
     "metadata": {},
     "output_type": "execute_result"
    }
   ],
   "source": [
    "from xgboost import XGBRegressor\n",
    "\n",
    "# Drop the original 'date' column (since we've extracted useful features)\n",
    "X_train = df.drop(columns=['date','num_sold', 'num_sold_log'])\n",
    "y_train = df['num_sold_log']\n",
    "\n",
    "\n",
    "# Train-test split (time series: no shuffle)\n",
    "# Split the data chronologically (the test set comes after the training set)\n",
    "train_size = int(len(X_train) * 0.8)\n",
    "X_train, X_val = X_train[:train_size], X_train[train_size:]\n",
    "y_train, y_val = y_train[:train_size], y_train[train_size:]\n",
    "\n",
    "# Initialize and train the XGBoost model\n",
    "model = XGBRegressor()\n",
    "model.fit(X_train, y_train)\n",
    "\n",
    "# Make predictions on the test set (using only features, no lag)\n",
    "test_predictions = model.predict(X_val)\n",
    "\n",
    "from sklearn.metrics import mean_squared_error\n",
    "\n",
    "\n",
    "rmse = np.sqrt(mean_squared_error(y_val, test_predictions))\n",
    "\n",
    "# Print the predictions for the test set\n",
    "rmse"
   ]
  },
  {
   "cell_type": "code",
   "execution_count": 13,
   "id": "bfcd5c47",
   "metadata": {
    "execution": {
     "iopub.execute_input": "2025-01-29T04:19:15.984242Z",
     "iopub.status.busy": "2025-01-29T04:19:15.983954Z",
     "iopub.status.idle": "2025-01-29T04:19:16.366392Z",
     "shell.execute_reply": "2025-01-29T04:19:16.365502Z"
    },
    "papermill": {
     "duration": 0.38859,
     "end_time": "2025-01-29T04:19:16.367729",
     "exception": false,
     "start_time": "2025-01-29T04:19:15.979139",
     "status": "completed"
    },
    "tags": []
   },
   "outputs": [
    {
     "name": "stderr",
     "output_type": "stream",
     "text": [
      "/usr/local/lib/python3.10/dist-packages/sklearn/cluster/_kmeans.py:870: FutureWarning: The default value of `n_init` will change from 10 to 'auto' in 1.4. Set the value of `n_init` explicitly to suppress the warning\n",
      "  warnings.warn(\n"
     ]
    }
   ],
   "source": [
    "# pre processing for test data\n",
    "\n",
    "df = test\n",
    "df['date'] = pd.to_datetime(df['date'])\n",
    "\n",
    "\n",
    "df['year'] = df['date'].dt.year\n",
    "df['month'] = df['date'].dt.month\n",
    "df['day_of_week'] = df['date'].dt.dayofweek  # Monday=0, Sunday=6\n",
    "df['day_of_year'] = df['date'].dt.dayofyear  # Helps capture annual seasonality\n",
    "df['week_of_year'] = df['date'].dt.isocalendar().week\n",
    "df['days_since_start'] = (df['date'] - df['date'].min()).dt.days\n",
    "\n",
    "# Select features for clustering\n",
    "features_for_clustering = df[[ 'days_since_start', 'month', 'day_of_week', \n",
    "                              'country', 'store', 'product']]\n",
    "\n",
    "kmeans = KMeans(random_state=42)\n",
    "df['cluster'] = kmeans.fit_predict(features_for_clustering)\n",
    "\n",
    "test = df.drop(columns = ['date'])\n",
    "\n"
   ]
  },
  {
   "cell_type": "code",
   "execution_count": 14,
   "id": "5e770b0c",
   "metadata": {
    "execution": {
     "iopub.execute_input": "2025-01-29T04:19:16.377352Z",
     "iopub.status.busy": "2025-01-29T04:19:16.377039Z",
     "iopub.status.idle": "2025-01-29T04:19:16.490244Z",
     "shell.execute_reply": "2025-01-29T04:19:16.489518Z"
    },
    "papermill": {
     "duration": 0.119173,
     "end_time": "2025-01-29T04:19:16.491433",
     "exception": false,
     "start_time": "2025-01-29T04:19:16.372260",
     "status": "completed"
    },
    "tags": []
   },
   "outputs": [
    {
     "data": {
      "text/html": [
       "<div>\n",
       "<style scoped>\n",
       "    .dataframe tbody tr th:only-of-type {\n",
       "        vertical-align: middle;\n",
       "    }\n",
       "\n",
       "    .dataframe tbody tr th {\n",
       "        vertical-align: top;\n",
       "    }\n",
       "\n",
       "    .dataframe thead th {\n",
       "        text-align: right;\n",
       "    }\n",
       "</style>\n",
       "<table border=\"1\" class=\"dataframe\">\n",
       "  <thead>\n",
       "    <tr style=\"text-align: right;\">\n",
       "      <th></th>\n",
       "      <th>id</th>\n",
       "      <th>num_sold</th>\n",
       "    </tr>\n",
       "  </thead>\n",
       "  <tbody>\n",
       "    <tr>\n",
       "      <th>0</th>\n",
       "      <td>230130</td>\n",
       "      <td>83</td>\n",
       "    </tr>\n",
       "    <tr>\n",
       "      <th>1</th>\n",
       "      <td>230131</td>\n",
       "      <td>678</td>\n",
       "    </tr>\n",
       "    <tr>\n",
       "      <th>2</th>\n",
       "      <td>230132</td>\n",
       "      <td>554</td>\n",
       "    </tr>\n",
       "    <tr>\n",
       "      <th>3</th>\n",
       "      <td>230133</td>\n",
       "      <td>313</td>\n",
       "    </tr>\n",
       "    <tr>\n",
       "      <th>4</th>\n",
       "      <td>230134</td>\n",
       "      <td>280</td>\n",
       "    </tr>\n",
       "    <tr>\n",
       "      <th>...</th>\n",
       "      <td>...</td>\n",
       "      <td>...</td>\n",
       "    </tr>\n",
       "    <tr>\n",
       "      <th>98545</th>\n",
       "      <td>328675</td>\n",
       "      <td>246</td>\n",
       "    </tr>\n",
       "    <tr>\n",
       "      <th>98546</th>\n",
       "      <td>328676</td>\n",
       "      <td>1935</td>\n",
       "    </tr>\n",
       "    <tr>\n",
       "      <th>98547</th>\n",
       "      <td>328677</td>\n",
       "      <td>1689</td>\n",
       "    </tr>\n",
       "    <tr>\n",
       "      <th>98548</th>\n",
       "      <td>328678</td>\n",
       "      <td>963</td>\n",
       "    </tr>\n",
       "    <tr>\n",
       "      <th>98549</th>\n",
       "      <td>328679</td>\n",
       "      <td>957</td>\n",
       "    </tr>\n",
       "  </tbody>\n",
       "</table>\n",
       "<p>98550 rows × 2 columns</p>\n",
       "</div>"
      ],
      "text/plain": [
       "           id  num_sold\n",
       "0      230130        83\n",
       "1      230131       678\n",
       "2      230132       554\n",
       "3      230133       313\n",
       "4      230134       280\n",
       "...       ...       ...\n",
       "98545  328675       246\n",
       "98546  328676      1935\n",
       "98547  328677      1689\n",
       "98548  328678       963\n",
       "98549  328679       957\n",
       "\n",
       "[98550 rows x 2 columns]"
      ]
     },
     "execution_count": 14,
     "metadata": {},
     "output_type": "execute_result"
    }
   ],
   "source": [
    "num_sold = model.predict(test)\n",
    "num_sold = np.expm1(num_sold)\n",
    "\n",
    "submission = pd.read_csv('/kaggle/input/playground-series-s5e1/sample_submission.csv')\n",
    "submission['num_sold'] = num_sold\n",
    "submission['num_sold'] = submission['num_sold'].astype(int)\n",
    "\n",
    "submission"
   ]
  },
  {
   "cell_type": "code",
   "execution_count": 15,
   "id": "1134ea1a",
   "metadata": {
    "execution": {
     "iopub.execute_input": "2025-01-29T04:19:16.501022Z",
     "iopub.status.busy": "2025-01-29T04:19:16.500754Z",
     "iopub.status.idle": "2025-01-29T04:19:16.552242Z",
     "shell.execute_reply": "2025-01-29T04:19:16.551497Z"
    },
    "papermill": {
     "duration": 0.057712,
     "end_time": "2025-01-29T04:19:16.553622",
     "exception": false,
     "start_time": "2025-01-29T04:19:16.495910",
     "status": "completed"
    },
    "tags": []
   },
   "outputs": [],
   "source": [
    "submission.to_csv(\"output_file.csv\", index=False)"
   ]
  },
  {
   "cell_type": "code",
   "execution_count": null,
   "id": "5a8dda18",
   "metadata": {
    "papermill": {
     "duration": 0.003953,
     "end_time": "2025-01-29T04:19:16.562174",
     "exception": false,
     "start_time": "2025-01-29T04:19:16.558221",
     "status": "completed"
    },
    "tags": []
   },
   "outputs": [],
   "source": []
  }
 ],
 "metadata": {
  "kaggle": {
   "accelerator": "none",
   "dataSources": [
    {
     "databundleVersionId": 10652996,
     "sourceId": 85723,
     "sourceType": "competition"
    }
   ],
   "dockerImageVersionId": 30839,
   "isGpuEnabled": false,
   "isInternetEnabled": true,
   "language": "python",
   "sourceType": "notebook"
  },
  "kernelspec": {
   "display_name": "Python 3",
   "language": "python",
   "name": "python3"
  },
  "language_info": {
   "codemirror_mode": {
    "name": "ipython",
    "version": 3
   },
   "file_extension": ".py",
   "mimetype": "text/x-python",
   "name": "python",
   "nbconvert_exporter": "python",
   "pygments_lexer": "ipython3",
   "version": "3.10.12"
  },
  "papermill": {
   "default_parameters": {},
   "duration": 9.062979,
   "end_time": "2025-01-29T04:19:17.283393",
   "environment_variables": {},
   "exception": null,
   "input_path": "__notebook__.ipynb",
   "output_path": "__notebook__.ipynb",
   "parameters": {},
   "start_time": "2025-01-29T04:19:08.220414",
   "version": "2.6.0"
  }
 },
 "nbformat": 4,
 "nbformat_minor": 5
}
